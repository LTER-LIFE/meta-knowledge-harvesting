{
 "cells": [
  {
   "cell_type": "code",
   "execution_count": null,
   "id": "927ecda7",
   "metadata": {},
   "outputs": [],
   "source": [
    "### load yaml\n",
    "\n",
    "import yaml\n",
    "def load_yaml(file_path):\n",
    "    \"\"\"\n",
    "    Load a YAML file and return its content.\n",
    "    \n",
    "    :param file_path: Path to the YAML file.\n",
    "    :return: Content of the YAML file as a Python object.\n",
    "    \"\"\"\n",
    "    with open(file_path, 'r') as file:\n",
    "        return yaml.safe_load(file)\n",
    "    \n",
    "tmp = load_yaml('/Users/tplas/Downloads/clean_entity_type_map.yaml')"
   ]
  },
  {
   "cell_type": "code",
   "execution_count": 7,
   "id": "45fcd8d5",
   "metadata": {},
   "outputs": [
    {
     "name": "stdout",
     "output_type": "stream",
     "text": [
      "Metadata fields found in the YAML file:\n",
      "Access rights\n",
      "Data contact point\n",
      "Data creator\n",
      "Data publisher\n",
      "Description\n",
      "Distribution access URL\n",
      "Distribution byte size\n",
      "Distribution format\n",
      "Keywords\n",
      "Landing page\n",
      "License\n",
      "Metadata date\n",
      "Metadata language\n",
      "Resource type\n",
      "Responsible organization metadata\n",
      "Spatial coverage\n",
      "Spatial reference system\n",
      "Spatial resolution\n",
      "Temporal coverage\n",
      "Temporal resolution\n",
      "Title\n",
      "Unique Identifier\n",
      "Total metadata fields: 21\n"
     ]
    }
   ],
   "source": [
    "metadata_fields = set()\n",
    "\n",
    "for ds_url, ds_info in tmp.items():\n",
    "    for md_field, md_values in ds_info.items():\n",
    "        metadata_fields.add(md_field)\n",
    "print(\"Metadata fields found in the YAML file:\")\n",
    "for field in sorted(metadata_fields):\n",
    "    print(field)\n",
    "assert len(metadata_fields) == 22\n",
    "metadata_fields = metadata_fields - {'Landing page'}\n",
    "\n",
    "print(f\"Total metadata fields: {len(metadata_fields)}\")"
   ]
  },
  {
   "cell_type": "code",
   "execution_count": 8,
   "id": "ec02425c",
   "metadata": {},
   "outputs": [],
   "source": [
    "new_yml = {}\n",
    "for ds_url, ds_info in tmp.items():\n",
    "    new_yml[ds_url] = {}\n",
    "    for md_field in metadata_fields:\n",
    "        new_yml[ds_url][md_field] = [None]\n",
    "\n",
    "with open('outputs/ground_truth_metadata_annotations-2025-05-30.yaml', 'w') as file:\n",
    "    yaml.dump(new_yml, file, default_flow_style=False, sort_keys=True)"
   ]
  },
  {
   "cell_type": "code",
   "execution_count": null,
   "id": "f32c7588",
   "metadata": {},
   "outputs": [],
   "source": []
  },
  {
   "cell_type": "markdown",
   "id": "3c5b713d",
   "metadata": {},
   "source": [
    "## Convert yaml"
   ]
  },
  {
   "cell_type": "code",
   "execution_count": 27,
   "id": "b863be4b",
   "metadata": {},
   "outputs": [],
   "source": [
    "tmp = load_yaml('outputs/annotations/ground_truth_metadata_annotations-2025-06-03.yaml')\n",
    "\n",
    "new_yml = {}\n",
    "for ds_url, ds_info in tmp.items():\n",
    "    new_yml[ds_url] = {}\n",
    "    for md_field, md_values in ds_info.items():\n",
    "        assert type(md_values) == list, f\"Expected list for {ds_url} {md_field}, got {type(md_values)}\"\n",
    "        assert len(md_values) == 1, f\"Expected single value for {ds_url} {md_field}, got {len(md_values)}\"\n",
    "        assert type(md_values[0]) == dict, f\"Expected dict for {ds_url} {md_field}, got {type(md_values[0])}\"\n",
    "        new_yml[ds_url][md_field] = md_values[0]\n",
    "        new_yml[ds_url][md_field]['findability'] = None\n",
    "    for new_col in ['Date published', 'Date last modified', 'Same as']:\n",
    "        if new_col not in new_yml[ds_url]:\n",
    "            new_yml[ds_url][new_col] = {'findability': None, 'text': None}\n",
    "\n",
    "with open('outputs/annotations/ground_truth_metadata_annotations-2025-06-03.yaml', 'w') as file:\n",
    "    yaml.dump(new_yml, file, default_flow_style=False, sort_keys=True, allow_unicode=True)"
   ]
  },
  {
   "cell_type": "code",
   "execution_count": 25,
   "id": "dcab9180",
   "metadata": {},
   "outputs": [],
   "source": [
    "tmp = load_yaml('outputs/annotations/ground_truth_metadata_annotations-2025-06-03.yaml')"
   ]
  }
 ],
 "metadata": {
  "kernelspec": {
   "display_name": "pecl",
   "language": "python",
   "name": "python3"
  },
  "language_info": {
   "codemirror_mode": {
    "name": "ipython",
    "version": 3
   },
   "file_extension": ".py",
   "mimetype": "text/x-python",
   "name": "python",
   "nbconvert_exporter": "python",
   "pygments_lexer": "ipython3",
   "version": "3.10.13"
  }
 },
 "nbformat": 4,
 "nbformat_minor": 5
}
